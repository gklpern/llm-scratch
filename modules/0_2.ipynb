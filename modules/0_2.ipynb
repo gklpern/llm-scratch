{
 "cells": [
  {
   "cell_type": "code",
   "execution_count": 1,
   "id": "a8faedbd",
   "metadata": {},
   "outputs": [],
   "source": [
    "prompt = 'the capital of france is '\n",
    "\n",
    "next_token = 'paris'"
   ]
  },
  {
   "cell_type": "code",
   "execution_count": 2,
   "id": "8eda328b",
   "metadata": {},
   "outputs": [],
   "source": [
    "output='the capital of france is paris'"
   ]
  },
  {
   "cell_type": "code",
   "execution_count": null,
   "id": "227ef195",
   "metadata": {},
   "outputs": [],
   "source": [
    "from src.tokenizer import Tokenizer"
   ]
  },
  {
   "cell_type": "code",
   "execution_count": 4,
   "id": "0b013adc",
   "metadata": {},
   "outputs": [],
   "source": [
    "tokenizer = Tokenizer('vocab.json')"
   ]
  },
  {
   "cell_type": "code",
   "execution_count": 5,
   "id": "f5423704",
   "metadata": {},
   "outputs": [],
   "source": [
    "with open('text.txt','r') as f:\n",
    "    text = f.read()"
   ]
  },
  {
   "cell_type": "code",
   "execution_count": 6,
   "id": "7a47e664",
   "metadata": {},
   "outputs": [],
   "source": [
    "token_ids = tokenizer.encode(text)"
   ]
  },
  {
   "cell_type": "code",
   "execution_count": 7,
   "id": "b6b04668",
   "metadata": {},
   "outputs": [],
   "source": [
    "ids_text = ''"
   ]
  },
  {
   "cell_type": "code",
   "execution_count": 8,
   "id": "b869f2bd",
   "metadata": {},
   "outputs": [],
   "source": [
    "for token_id in token_ids:\n",
    "    ids_text += f\"{token_ids}\""
   ]
  },
  {
   "cell_type": "code",
   "execution_count": 9,
   "id": "243c3c70",
   "metadata": {},
   "outputs": [],
   "source": [
    "with open(\"token_ids.txt\",'w') as f:\n",
    "    f.write(ids_text)"
   ]
  },
  {
   "cell_type": "code",
   "execution_count": 10,
   "id": "fb8947ae",
   "metadata": {},
   "outputs": [],
   "source": [
    "import torch\n",
    "from torch.utils.data import DataLoader"
   ]
  },
  {
   "cell_type": "code",
   "execution_count": null,
   "id": "ad312e64",
   "metadata": {},
   "outputs": [],
   "source": [
    "from src.text_dataset import TextDataset\n",
    "from src.text_dataset import create_data_loader"
   ]
  },
  {
   "cell_type": "code",
   "execution_count": 12,
   "id": "94d794eb",
   "metadata": {},
   "outputs": [],
   "source": [
    "\n",
    "\n",
    "\n",
    "\n",
    "stride = 1\n",
    "context_length=12\n",
    "\n",
    "from torch.utils.data import DataLoader\n",
    "\n",
    "def create_data_loader(\n",
    "    token_ids: list,\n",
    "    context_length: int,\n",
    "    stride: int,\n",
    "    batch_size: int,\n",
    "    shuffle: bool = True,\n",
    "    device: str = 'cpu'\n",
    "):\n",
    "    dataset = TextDataset(token_ids, context_length, stride)\n",
    "    dataloader = DataLoader(\n",
    "        dataset=dataset,\n",
    "        batch_size=batch_size,\n",
    "        shuffle=shuffle,\n",
    "        generator=torch.Generator(device=torch.device(device))\n",
    "    )\n",
    "    return dataloader\n",
    "\n",
    "    \n"
   ]
  },
  {
   "cell_type": "code",
   "execution_count": 13,
   "id": "e247cd17",
   "metadata": {},
   "outputs": [],
   "source": [
    "train_data_loader = create_data_loader(token_ids,context_length,stride,1,shuffle=False)"
   ]
  },
  {
   "cell_type": "code",
   "execution_count": 14,
   "id": "854c578d",
   "metadata": {},
   "outputs": [
    {
     "name": "stdout",
     "output_type": "stream",
     "text": [
      "(0, [tensor([[2, 1, 3, 1, 4, 1, 2, 1, 5, 1, 6, 1]]), tensor([[1, 3, 1, 4, 1, 2, 1, 5, 1, 6, 1, 7]])])\n",
      "(1, [tensor([[1, 3, 1, 4, 1, 2, 1, 5, 1, 6, 1, 7]]), tensor([[3, 1, 4, 1, 2, 1, 5, 1, 6, 1, 7, 1]])])\n",
      "(2, [tensor([[3, 1, 4, 1, 2, 1, 5, 1, 6, 1, 7, 1]]), tensor([[1, 4, 1, 2, 1, 5, 1, 6, 1, 7, 1, 8]])])\n"
     ]
    }
   ],
   "source": [
    "i=0\n",
    "for batch in enumerate(train_data_loader):\n",
    "    print(batch)\n",
    "    i+=1\n",
    "    if i>2:\n",
    "        break"
   ]
  }
 ],
 "metadata": {
  "kernelspec": {
   "display_name": "Python 3",
   "language": "python",
   "name": "python3"
  },
  "language_info": {
   "codemirror_mode": {
    "name": "ipython",
    "version": 3
   },
   "file_extension": ".py",
   "mimetype": "text/x-python",
   "name": "python",
   "nbconvert_exporter": "python",
   "pygments_lexer": "ipython3",
   "version": "3.10.0"
  }
 },
 "nbformat": 4,
 "nbformat_minor": 5
}
