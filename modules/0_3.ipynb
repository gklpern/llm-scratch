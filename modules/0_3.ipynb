{
 "cells": [
  {
   "cell_type": "code",
   "execution_count": 5,
   "id": "e61f84bd",
   "metadata": {},
   "outputs": [],
   "source": [
    "import sys\n",
    "import os\n",
    "sys.path.append(os.path.abspath(os.path.join(os.getcwd(), '..')))"
   ]
  },
  {
   "cell_type": "code",
   "execution_count": null,
   "id": "227ef195",
   "metadata": {},
   "outputs": [],
   "source": [
    "from src.tokenizer import Tokenizer"
   ]
  },
  {
   "cell_type": "code",
   "execution_count": 9,
   "id": "0b013adc",
   "metadata": {},
   "outputs": [],
   "source": [
    "tokenizer = Tokenizer('../json_files/vocab.json')"
   ]
  },
  {
   "cell_type": "code",
   "execution_count": 11,
   "id": "f5423704",
   "metadata": {},
   "outputs": [],
   "source": [
    "with open('../text.txt','r') as f:\n",
    "    text = f.read()"
   ]
  },
  {
   "cell_type": "code",
   "execution_count": 12,
   "id": "7a47e664",
   "metadata": {},
   "outputs": [],
   "source": [
    "token_ids = tokenizer.encode(text)\n",
    "\n",
    "ids_text = ''\n",
    "\n",
    "for token_id in token_ids:\n",
    "    ids_text += f\"{token_ids}\"\n",
    "\n",
    "\n",
    "#with open(\"token_ids.txt\",'w') as f:\n",
    "#    f.write(ids_text)"
   ]
  },
  {
   "cell_type": "code",
   "execution_count": 13,
   "id": "fb8947ae",
   "metadata": {},
   "outputs": [],
   "source": [
    "import torch\n",
    "from torch.utils.data import DataLoader"
   ]
  },
  {
   "cell_type": "code",
   "execution_count": 14,
   "id": "ad312e64",
   "metadata": {},
   "outputs": [],
   "source": [
    "from src.text_dataset import TextDataset\n",
    "from src.text_dataset import create_data_loader"
   ]
  },
  {
   "cell_type": "code",
   "execution_count": 15,
   "id": "e247cd17",
   "metadata": {},
   "outputs": [],
   "source": [
    "context_length = 12 # gpt-4o 128k, gemma-3-1b 32K\n",
    "stride = 4\n",
    "\n",
    "train_data_loader = create_data_loader(token_ids,context_length,stride,1,shuffle=False)"
   ]
  },
  {
   "cell_type": "code",
   "execution_count": 16,
   "id": "854c578d",
   "metadata": {},
   "outputs": [
    {
     "name": "stdout",
     "output_type": "stream",
     "text": [
      "(0, [tensor([[2, 1, 3, 1, 4, 1, 2, 1, 5, 1, 6, 1]]), tensor([[1, 3, 1, 4, 1, 2, 1, 5, 1, 6, 1, 7]])])\n",
      "(1, [tensor([[4, 1, 2, 1, 5, 1, 6, 1, 7, 1, 8, 1]]), tensor([[1, 2, 1, 5, 1, 6, 1, 7, 1, 8, 1, 9]])])\n",
      "(2, [tensor([[5, 1, 6, 1, 7, 1, 8, 1, 9, 1, 2, 1]]), tensor([[1, 6, 1, 7, 1, 8, 1, 9, 1, 2, 1, 3]])])\n"
     ]
    }
   ],
   "source": [
    "i=0\n",
    "for batch in enumerate(train_data_loader):\n",
    "    print(batch)\n",
    "    i+=1\n",
    "    if i>2:\n",
    "        break"
   ]
  },
  {
   "cell_type": "code",
   "execution_count": 17,
   "id": "8567e2bb",
   "metadata": {},
   "outputs": [],
   "source": [
    "data_iter = iter(train_data_loader)"
   ]
  },
  {
   "cell_type": "code",
   "execution_count": 23,
   "id": "62fc7881",
   "metadata": {},
   "outputs": [
    {
     "data": {
      "text/plain": [
       "[tensor([[ 9,  1,  2,  1,  3,  1,  4,  1, 10,  1,  7,  1]]),\n",
       " tensor([[ 1,  2,  1,  3,  1,  4,  1, 10,  1,  7,  1, 11]])]"
      ]
     },
     "execution_count": 23,
     "metadata": {},
     "output_type": "execute_result"
    }
   ],
   "source": [
    "next(data_iter)"
   ]
  },
  {
   "cell_type": "markdown",
   "id": "04041340",
   "metadata": {},
   "source": [
    "### Embedding"
   ]
  },
  {
   "cell_type": "code",
   "execution_count": null,
   "id": "b72a8935",
   "metadata": {},
   "outputs": [],
   "source": []
  }
 ],
 "metadata": {
  "kernelspec": {
   "display_name": "Python 3",
   "language": "python",
   "name": "python3"
  },
  "language_info": {
   "codemirror_mode": {
    "name": "ipython",
    "version": 3
   },
   "file_extension": ".py",
   "mimetype": "text/x-python",
   "name": "python",
   "nbconvert_exporter": "python",
   "pygments_lexer": "ipython3",
   "version": "3.10.0"
  }
 },
 "nbformat": 4,
 "nbformat_minor": 5
}
