{
 "cells": [
  {
   "cell_type": "code",
   "execution_count": 1,
   "id": "993958b3",
   "metadata": {},
   "outputs": [],
   "source": [
    "text1='The capital of france is'"
   ]
  },
  {
   "cell_type": "code",
   "execution_count": 2,
   "id": "701b2aff",
   "metadata": {},
   "outputs": [],
   "source": [
    "def tokenize(text):\n",
    "    return text.split()"
   ]
  },
  {
   "cell_type": "code",
   "execution_count": 3,
   "id": "5d97299e",
   "metadata": {},
   "outputs": [
    {
     "data": {
      "text/plain": [
       "['The', 'capital', 'of', 'france', 'is']"
      ]
     },
     "execution_count": 3,
     "metadata": {},
     "output_type": "execute_result"
    }
   ],
   "source": [
    "tokenize(text1)\n"
   ]
  },
  {
   "cell_type": "code",
   "execution_count": 4,
   "id": "0a10ec6d",
   "metadata": {},
   "outputs": [],
   "source": [
    "vocab={\n",
    "    'The':0,\n",
    "    'cat':1,\n",
    "    'capital':2,\n",
    "    'france':3,\n",
    "    'is':4,\n",
    "    'cat':5,\n",
    "    '<unk>':6\n",
    "}"
   ]
  },
  {
   "cell_type": "code",
   "execution_count": 5,
   "id": "3803d29d",
   "metadata": {},
   "outputs": [],
   "source": [
    "def tokenize2(text):\n",
    "    parts=text.split()\n",
    "    ids=[]\n",
    "    for part in parts:\n",
    "        if part in vocab:\n",
    "            value = vocab[part]\n",
    "        else:\n",
    "            value = vocab['<unk>']\n",
    "        ids.append(value)\n",
    "\n",
    "    return ids\n",
    "\n",
    "\n",
    "    "
   ]
  },
  {
   "cell_type": "code",
   "execution_count": 6,
   "id": "f450bda0",
   "metadata": {},
   "outputs": [],
   "source": [
    "token_ids_1 = tokenize2(text1)"
   ]
  },
  {
   "cell_type": "code",
   "execution_count": 7,
   "id": "2144a54f",
   "metadata": {},
   "outputs": [],
   "source": [
    "import tiktoken"
   ]
  },
  {
   "cell_type": "code",
   "execution_count": 8,
   "id": "9d326261",
   "metadata": {},
   "outputs": [],
   "source": [
    "enc = tiktoken.get_encoding('gpt2')"
   ]
  },
  {
   "cell_type": "code",
   "execution_count": 9,
   "id": "99a4b787",
   "metadata": {},
   "outputs": [],
   "source": [
    "gpt2_ids=enc.encode(text1)"
   ]
  },
  {
   "cell_type": "code",
   "execution_count": 10,
   "id": "17e3dadc",
   "metadata": {},
   "outputs": [
    {
     "data": {
      "text/plain": [
       "[464, 3139, 286, 1216, 590, 318]"
      ]
     },
     "execution_count": 10,
     "metadata": {},
     "output_type": "execute_result"
    }
   ],
   "source": [
    "gpt2_ids"
   ]
  },
  {
   "cell_type": "code",
   "execution_count": 11,
   "id": "2df0e9ae",
   "metadata": {},
   "outputs": [
    {
     "data": {
      "text/plain": [
       "'The capital of france is'"
      ]
     },
     "execution_count": 11,
     "metadata": {},
     "output_type": "execute_result"
    }
   ],
   "source": [
    "enc.decode(gpt2_ids)"
   ]
  },
  {
   "cell_type": "code",
   "execution_count": 14,
   "id": "7f334bdb",
   "metadata": {},
   "outputs": [],
   "source": [
    "from transformers import AutoTokenizer"
   ]
  },
  {
   "cell_type": "code",
   "execution_count": 16,
   "id": "51e7c92b",
   "metadata": {},
   "outputs": [
    {
     "data": {
      "application/vnd.jupyter.widget-view+json": {
       "model_id": "998a36ec094d42e8a5cc6cf8eb93dd7d",
       "version_major": 2,
       "version_minor": 0
      },
      "text/plain": [
       "tokenizer_config.json: 0.00B [00:00, ?B/s]"
      ]
     },
     "metadata": {},
     "output_type": "display_data"
    },
    {
     "data": {
      "application/vnd.jupyter.widget-view+json": {
       "model_id": "06e52fa8787940688b475ee7530343e7",
       "version_major": 2,
       "version_minor": 0
      },
      "text/plain": [
       "spiece.model:   0%|          | 0.00/792k [00:00<?, ?B/s]"
      ]
     },
     "metadata": {},
     "output_type": "display_data"
    },
    {
     "data": {
      "application/vnd.jupyter.widget-view+json": {
       "model_id": "2e2ab8d6c54c4d949f684f3a080d3d23",
       "version_major": 2,
       "version_minor": 0
      },
      "text/plain": [
       "tokenizer.json: 0.00B [00:00, ?B/s]"
      ]
     },
     "metadata": {},
     "output_type": "display_data"
    }
   ],
   "source": [
    "tokenizer = AutoTokenizer.from_pretrained('google-t5/t5-small')"
   ]
  },
  {
   "cell_type": "code",
   "execution_count": 19,
   "id": "711ba673",
   "metadata": {},
   "outputs": [],
   "source": [
    "t5_tokenizer_ids = tokenizer.encode(text1)"
   ]
  },
  {
   "cell_type": "code",
   "execution_count": 20,
   "id": "4123942f",
   "metadata": {},
   "outputs": [
    {
     "data": {
      "text/plain": [
       "[37, 1784, 13, 2515, 663, 19, 1]"
      ]
     },
     "execution_count": 20,
     "metadata": {},
     "output_type": "execute_result"
    }
   ],
   "source": [
    "t5_tokenizer_ids"
   ]
  },
  {
   "cell_type": "code",
   "execution_count": 21,
   "id": "d032e425",
   "metadata": {},
   "outputs": [],
   "source": [
    "with open('text.txt' , 'r') as f:\n",
    "    text = f.read()\n",
    "\n",
    "    "
   ]
  },
  {
   "cell_type": "code",
   "execution_count": 22,
   "id": "d4da89f7",
   "metadata": {},
   "outputs": [
    {
     "data": {
      "text/plain": [
       "'the capital of the united states is not london. the capital of france is paris, and berlin is the capital of germany. rome is in italy, \\n\\nmadrid is in spain, and lisbon is in portugal. the capital of the united kingdom is not paris, and the capital of the united states is not berlin. \\nalthough these places are often mentioned together, although these capitals are often mentioned together, although these are often mentioned together, \\neach country has its own capital, and each country has its own city, and each capital has its own identity, and each capital has its own history. washington \\nis the capital of the united states, and london is the capital of the united kingdom. paris is known for art and fashion, and berlin is known for art and \\nhistory, and rome is known for art and history, and madrid is known for culture and history, and lisbon is known for culture and art. rome is rich with culture, \\nrome is rich with history, rome is rich with art, and madrid is rich with art and culture. lisbon is a unique city in portugal with a rich history, a rich culture, \\nand a rich identity. these capitals are often mentioned together, these capitals are often mentioned together in art, these capitals are often mentioned together \\nin culture, these capitals are often mentioned together in history. the united states is not in europe, the united states is not in any european place, and \\nwashington is not in any european city. each european country is made of important capitals, and each european capital is made of art, history, and culture. \\nthe capital of the united states is washington, the capital of the united kingdom is london, the capital of france is paris, the capital of germany is berlin, \\nthe capital of italy is rome, the capital of spain is madrid, and the capital of portugal is lisbon. while these capitals are in europe, while these capitals are \\nin europe, washington is in the united states. these capitals remain important, these remain important, these places remain important in the world. the \\ncapital of each country is its own, the capital of each country is its identity, the capital of each country is its culture. europe is made of many, \\neurope is made of many capitals, europe is made of many important places. each place is rich with culture, each place is rich with history, and each capital is \\n\\nrich with identity. the world is made of capitals, the world is made of, the world is made of places, and the capital of the united states is washington, \\nnot any european city, not paris, not london, not berlin. the capital of the united states is not london. the capital of france is paris, and berlin is the capital of germany.\\nrome is in italy, madrid is in spain, and lisbon is in portugal. the capital of the united kingdom is not paris, and the capital of the united \\nstates is not berlin. although these places are often mentioned together, each country has its own capital, and each capital has its own identity. \\nwashington is the capital of the united states, and london is the capital of the united kingdom. paris is known for art and fashion, while berlin is \\nfamous for its culture and history. rome is rich with history, and madrid is known for its art and culture. lisbon is a unique city in portugal \\nwith a rich history. these capitals are often mentioned together, although each place with its own culture. the united states is not in europe, \\nand washington is not in any european country. these european capitals are made of history, culture, and identity. each country in europe has a capital, \\nand each capital is known for important. london, paris, berlin, rome, madrid, and lisbon remain important places in the world. while these capitals\\nare in europe, washington is in the united states. although these places are not in the country, they are often mentioned together in art, culture, \\nand history. the capital of each country is its own. europe is made of many capitals, and each has a capital with a unique history. \\nthe world is of important places, and the capital of the united states is washington, not any european city.'"
      ]
     },
     "execution_count": 22,
     "metadata": {},
     "output_type": "execute_result"
    }
   ],
   "source": [
    "text"
   ]
  },
  {
   "cell_type": "code",
   "execution_count": null,
   "id": "dc2e78bf",
   "metadata": {},
   "outputs": [],
   "source": [
    "from src.tokenizer import Tokenizer"
   ]
  },
  {
   "cell_type": "code",
   "execution_count": null,
   "id": "65a957af",
   "metadata": {},
   "outputs": [],
   "source": [
    "tokens = "
   ]
  }
 ],
 "metadata": {
  "kernelspec": {
   "display_name": "Python 3",
   "language": "python",
   "name": "python3"
  },
  "language_info": {
   "codemirror_mode": {
    "name": "ipython",
    "version": 3
   },
   "file_extension": ".py",
   "mimetype": "text/x-python",
   "name": "python",
   "nbconvert_exporter": "python",
   "pygments_lexer": "ipython3",
   "version": "3.10.0"
  }
 },
 "nbformat": 4,
 "nbformat_minor": 5
}
